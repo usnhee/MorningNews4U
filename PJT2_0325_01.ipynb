{
 "cells": [
  {
   "cell_type": "code",
   "execution_count": 43,
   "metadata": {
    "colab": {
     "base_uri": "https://localhost:8080/"
    },
    "id": "WbVn8PBTvvgI",
    "outputId": "f6a5b9b9-628f-4d34-b8dc-de0e7e88c3b1",
    "scrolled": true
   },
   "outputs": [
    {
     "name": "stdout",
     "output_type": "stream",
     "text": [
      "Requirement already satisfied: fastapi in c:\\users\\class\\anaconda3\\lib\\site-packages (0.75.0)\n",
      "Requirement already satisfied: nest-asyncio in c:\\users\\class\\anaconda3\\lib\\site-packages (1.5.1)\n",
      "Requirement already satisfied: pyngrok in c:\\users\\class\\anaconda3\\lib\\site-packages (5.1.0)\n",
      "Requirement already satisfied: uvicorn in c:\\users\\class\\anaconda3\\lib\\site-packages (0.17.6)\n",
      "Requirement already satisfied: aiofiles in c:\\users\\class\\anaconda3\\lib\\site-packages (0.8.0)\n",
      "Requirement already satisfied: python-multipart in c:\\users\\class\\anaconda3\\lib\\site-packages (0.0.5)\n",
      "Requirement already satisfied: pydantic!=1.7,!=1.7.1,!=1.7.2,!=1.7.3,!=1.8,!=1.8.1,<2.0.0,>=1.6.2 in c:\\users\\class\\anaconda3\\lib\\site-packages (from fastapi) (1.9.0)\n",
      "Requirement already satisfied: starlette==0.17.1 in c:\\users\\class\\anaconda3\\lib\\site-packages (from fastapi) (0.17.1)\n",
      "Requirement already satisfied: anyio<4,>=3.0.0 in c:\\users\\class\\anaconda3\\lib\\site-packages (from starlette==0.17.1->fastapi) (3.5.0)\n",
      "Requirement already satisfied: PyYAML in c:\\users\\class\\anaconda3\\lib\\site-packages (from pyngrok) (6.0)\n",
      "Requirement already satisfied: h11>=0.8 in c:\\users\\class\\anaconda3\\lib\\site-packages (from uvicorn) (0.12.0)\n",
      "Requirement already satisfied: click>=7.0 in c:\\users\\class\\anaconda3\\lib\\site-packages (from uvicorn) (8.0.3)\n",
      "Requirement already satisfied: asgiref>=3.4.0 in c:\\users\\class\\anaconda3\\lib\\site-packages (from uvicorn) (3.5.0)\n",
      "Requirement already satisfied: six>=1.4.0 in c:\\users\\class\\anaconda3\\lib\\site-packages (from python-multipart) (1.16.0)\n",
      "Requirement already satisfied: idna>=2.8 in c:\\users\\class\\anaconda3\\lib\\site-packages (from anyio<4,>=3.0.0->starlette==0.17.1->fastapi) (3.2)\n",
      "Requirement already satisfied: sniffio>=1.1 in c:\\users\\class\\anaconda3\\lib\\site-packages (from anyio<4,>=3.0.0->starlette==0.17.1->fastapi) (1.2.0)\n",
      "Requirement already satisfied: colorama in c:\\users\\class\\anaconda3\\lib\\site-packages (from click>=7.0->uvicorn) (0.4.4)\n",
      "Requirement already satisfied: typing-extensions>=3.7.4.3 in c:\\users\\class\\anaconda3\\lib\\site-packages (from pydantic!=1.7,!=1.7.1,!=1.7.2,!=1.7.3,!=1.8,!=1.8.1,<2.0.0,>=1.6.2->fastapi) (3.10.0.2)\n"
     ]
    }
   ],
   "source": [
    "!pip install fastapi nest-asyncio pyngrok uvicorn aiofiles python-multipart"
   ]
  },
  {
   "cell_type": "code",
   "execution_count": 2,
   "metadata": {},
   "outputs": [
    {
     "name": "stderr",
     "output_type": "stream",
     "text": [
      "하위 디렉터리 또는 파일 templates이(가) 이미 있습니다.\n"
     ]
    }
   ],
   "source": [
    "!mkdir templates"
   ]
  },
  {
   "cell_type": "code",
   "execution_count": 3,
   "metadata": {},
   "outputs": [
    {
     "name": "stdout",
     "output_type": "stream",
     "text": [
      "Requirement already satisfied: aiofiles in c:\\users\\class\\anaconda3\\lib\\site-packages (0.8.0)\n",
      "Requirement already satisfied: python-multipart in c:\\users\\class\\anaconda3\\lib\\site-packages (0.0.5)\n",
      "Requirement already satisfied: six>=1.4.0 in c:\\users\\class\\anaconda3\\lib\\site-packages (from python-multipart) (1.16.0)\n"
     ]
    }
   ],
   "source": [
    "!pip install aiofiles python-multipart"
   ]
  },
  {
   "cell_type": "code",
   "execution_count": 44,
   "metadata": {},
   "outputs": [],
   "source": [
    "from fastapi import FastAPI, File, UploadFile\n",
    "from fastapi.responses import FileResponse\n",
    "from typing import List\n",
    "import os\n",
    "import uvicorn"
   ]
  },
  {
   "cell_type": "code",
   "execution_count": 45,
   "metadata": {
    "id": "KD6Kg9xqvS27"
   },
   "outputs": [],
   "source": [
    "from fastapi import FastAPI, Request, Form\n",
    "from fastapi.responses import HTMLResponse\n",
    "from fastapi.staticfiles import StaticFiles\n",
    "from fastapi.templating import Jinja2Templates\n",
    "import nest_asyncio\n",
    "from pyngrok import ngrok\n",
    "\n",
    "import uvicorn\n",
    "# from fastapi.staticfiles import StaticFiles"
   ]
  },
  {
   "cell_type": "code",
   "execution_count": 46,
   "metadata": {
    "colab": {
     "base_uri": "https://localhost:8080/"
    },
    "id": "Mr4-CzWHvuLY",
    "outputId": "3af1e820-a3dd-4926-85dd-f88a352609b3"
   },
   "outputs": [
    {
     "name": "stdout",
     "output_type": "stream",
     "text": [
      "Overwriting templates/inputnews.html\n"
     ]
    }
   ],
   "source": [
    "%%writefile templates/inputnews.html\n",
    "<!DOCTYPE html>\n",
    "<html>\n",
    "<head>\n",
    "<meta charset=\"UTF-8\">\n",
    "<title>뉴스 줄넘귀</title>\n",
    "<style>\n",
    "body {background-color: lightblue;}\n",
    ".white {background-color: white;}\n",
    "</style>\n",
    "</head>\n",
    "\n",
    "<body>\n",
    "\n",
    "<h2>뉴스 줄넘귀</h2>\n",
    "\n",
    "<form action=\"/topic\" method = 'post'>\n",
    "  <label for=\"keyword\">검색할 키워드:</label><br>\n",
    "  <input type=\"text\" id=\"keyword\" name=\"keyword\" value=\" \"><br>\n",
    "  <label for=\"ct\">수집 뉴스의 수(숫자만 입력) :</label><br>\n",
    "  <input type=\"int\" id=\"ct\" name=\"ct\" value=\"3\"><br><br>\n",
    "  <input type=\"submit\" value=\"Submit\">\n",
    "</form> \n",
    "\n",
    "<p>If you click the \"Submit\" button, the form-data will be sent to a page called \"/action_page.php\".</p>\n",
    "\n",
    "\n",
    "</body>\n",
    "</html>\n"
   ]
  },
  {
   "cell_type": "code",
   "execution_count": 47,
   "metadata": {
    "colab": {
     "base_uri": "https://localhost:8080/"
    },
    "id": "60XAOgHBzavT",
    "outputId": "35163009-65ef-413c-bd3d-f95460010ba4"
   },
   "outputs": [
    {
     "name": "stdout",
     "output_type": "stream",
     "text": [
      "Overwriting templates/resultnews.html\n"
     ]
    }
   ],
   "source": [
    "%%writefile templates/resultnews.html\n",
    "<html>\n",
    "<head>\n",
    "<title>Topics</title>\n",
    "</head>\n",
    "<body>\n",
    "    <h1>검색할 키워드: {{ keyword }} </h1>\n",
    "    <h1>수집 뉴스의 수: {{ ct }}</h1>\n",
    "    <h1>요약: {{ result_news }}</h1>\n",
    "    <h2>뉴스</h2>\n",
    "    #<audio src=\"./audioFinal.mp3\" controls>\n",
    "    <audio controls autoplay>\n",
    "    <source src= {{ fn }} type=\"audio/mpeg\">\n",
    "        Your browser does not support the audio element.\n",
    "    </audio>\n",
    "</body>\n",
    "</html>"
   ]
  },
  {
   "cell_type": "code",
   "execution_count": 64,
   "metadata": {},
   "outputs": [],
   "source": [
    "import sys, os\n",
    "import requests\n",
    "import selenium\n",
    "from selenium import webdriver\n",
    "import requests\n",
    "from pandas import DataFrame\n",
    "from bs4 import BeautifulSoup\n",
    "import re\n",
    "from datetime import datetime\n",
    "import pickle, json, glob, time\n",
    "from tqdm import tqdm\n",
    "\n",
    "def process_a(keyword, ct):\n",
    "    ###### 날짜 저장 ##########\n",
    "    date = str(datetime.now())\n",
    "    date = date[:date.rfind(':')].replace(' ', '_')\n",
    "    date = date.replace(':','시') + '분'\n",
    "    sleep_sec = 0.5\n",
    "\n",
    "    ####### 언론사별 본문 위치 태그 파싱 함수 ###########\n",
    "    print('본문 크롤링에 필요한 함수를 로딩하고 있습니다...\\n' + '-' * 100)\n",
    "    def crawling_main_text(url):\n",
    "        req = requests.get(url)\n",
    "        req.encoding = None\n",
    "        soup = BeautifulSoup(req.text, 'html.parser')\n",
    "        \n",
    "        # 연합뉴스\n",
    "        if ('://yna' in url) | ('app.yonhapnews' in url):\n",
    "            main_article = soup.find('article', {'class':'story-news article'})\n",
    "            if main_article == None:\n",
    "                main_article = soup.find('div', {'class' : 'article-txt'})\n",
    "        \n",
    "            text = main_article.text\n",
    "        \n",
    "        # MBC \n",
    "        elif '//imnews.imbc' in url: \n",
    "            text = soup.find('div', {'itemprop' : 'articleBody'}).text\n",
    "        \n",
    "        # 매일경제(미라클), req.encoding = None 설정 필요\n",
    "        elif 'mirakle.mk' in url:\n",
    "            text = soup.find('div', {'class' : 'view_txt'}).text\n",
    "        \n",
    "        # 매일경제, req.encoding = None 설정 필요\n",
    "        elif 'mk.co' in url:\n",
    "            text = soup.find('div', {'class' : 'art_txt'}).text\n",
    "        \n",
    "        # SBS\n",
    "        elif 'news.sbs' in url:\n",
    "            text = soup.find('div', {'itemprop' : 'articleBody'}).text\n",
    "    \n",
    "        # KBS\n",
    "        elif 'news.kbs' in url:\n",
    "            text = soup.find('div', {'id' : 'cont_newstext'}).text\n",
    "        \n",
    "        # JTBC\n",
    "        elif 'news.jtbc' in url:\n",
    "            text = soup.find('div', {'class' : 'article_content'}).text\n",
    "        \n",
    "        # 그 외\n",
    "        else:\n",
    "            text == None\n",
    "        \n",
    "        return text.replace('\\n','').replace('\\r','').replace('<br>','').replace('\\t','')\n",
    "    \n",
    "    \n",
    "    press_nm = 'MBC'\n",
    "\n",
    "    print('검색할 언론사 : {}'.format(press_nm))\n",
    "\n",
    "\n",
    "############### 브라우저를 켜고 검색 키워드 입력 ####################\n",
    "   # query = input('검색할 키워드  : ')\n",
    "   # news_num = int(input('수집 뉴스의 수(숫자만 입력) : '))\n",
    "\n",
    "    print('\\n' + '=' * 100 + '\\n')\n",
    "\n",
    "    print('브라우저를 실행시킵니다(자동 제어)\\n')\n",
    "    chrome_path = './chromedriver.exe'\n",
    "    browser = webdriver.Chrome(chrome_path)\n",
    "\n",
    "    news_url = 'https://search.naver.com/search.naver?where=news&query={}'.format(keyword)\n",
    "    browser.get(news_url)\n",
    "    time.sleep(sleep_sec)\n",
    "\n",
    "\n",
    "######### 언론사 선택 및 confirm #####################\n",
    "    print('설정한 언론사를 선택합니다.\\n')\n",
    "\n",
    "    search_opn_btn = browser.find_element_by_xpath('//a[@class=\"btn_option _search_option_open_btn\"]')\n",
    "    search_opn_btn.click()\n",
    "    time.sleep(sleep_sec)\n",
    "\n",
    "    bx_press = browser.find_element_by_xpath('//div[@role=\"listbox\" and @class=\"api_group_option_sort _search_option_detail_wrap\"]//li[@class=\"bx press\"]')\n",
    "    time.sleep(sleep_sec)\n",
    "# 기준 두번 째(언론사 분류순) 클릭하고 오픈하기\n",
    "    press_tablist = bx_press.find_elements_by_xpath('.//div[@role=\"tablist\" and @class=\"option\"]/a')\n",
    "    press_tablist[1].click()\n",
    "    time.sleep(sleep_sec)\n",
    "\n",
    "# 첫 번째 것(언론사 분류선택)\n",
    "    bx_group = bx_press.find_elements_by_xpath('.//div[@class=\"api_select_option type_group _category_select_layer\"]/div[@class=\"select_wrap _root\"]')[0]\n",
    "\n",
    "    press_kind_bx = bx_group.find_elements_by_xpath('.//div[@class=\"group_select _list_root\"]')[0]\n",
    "    press_kind_btn_list = press_kind_bx.find_elements_by_xpath('.//ul[@role=\"tablist\" and @class=\"lst_item _ul\"]/li/a')\n",
    "\n",
    "\n",
    "    for press_kind_btn in press_kind_btn_list:\n",
    "    \n",
    "        # 언론사 종류를 순차적으로 클릭(좌측)\n",
    "        press_kind_btn.click()\n",
    "        time.sleep(sleep_sec)\n",
    "    \n",
    "        # 언론사선택(우측)\n",
    "        press_slct_bx = bx_group.find_elements_by_xpath('.//div[@class=\"group_select _list_root\"]')[1]\n",
    "        # 언론사 선택할 수 있는 클릭 버튼\n",
    "        press_slct_btn_list = press_slct_bx.find_elements_by_xpath('.//ul[@role=\"tablist\" and @class=\"lst_item _ul\"]/li/a')\n",
    "        # 언론사 이름들 추출\n",
    "        press_slct_btn_list_nm = [psl.text for psl in press_slct_btn_list]\n",
    "    \n",
    "        # 언론사 이름 : 언론사 클릭 버튼 인 딕셔너리 생성\n",
    "        press_slct_btn_dict = dict(zip(press_slct_btn_list_nm, press_slct_btn_list))\n",
    "    \n",
    "        # 원하는 언론사가 해당 이름 안에 있는 경우\n",
    "        # 1) 클릭하고\n",
    "        # 2) 더이상 언론사분류선택 탐색 중지\n",
    "        if press_nm in press_slct_btn_dict.keys():\n",
    "            print('<{}> 카테고리에서 <{}>를 찾았으므로 탐색을 종료합니다'.format(press_kind_btn.text, press_nm))\n",
    "        \n",
    "            press_slct_btn_dict[press_nm].click()\n",
    "            time.sleep(sleep_sec)\n",
    "            \n",
    "            break\n",
    "\n",
    "\n",
    "\n",
    "################ 뉴스 크롤링 ########################\n",
    "    print('\\n크롤링을 시작합니다.')\n",
    "    news_dict = {}\n",
    "    idx = 1\n",
    "    cur_page = 1\n",
    "\n",
    "    pbar = tqdm(total=ct ,leave = True)\n",
    "    \n",
    "    while idx < ct:\n",
    "\n",
    "        table = browser.find_element_by_xpath('//ul[@class=\"list_news\"]')\n",
    "        li_list = table.find_elements_by_xpath('./li[contains(@id, \"sp_nws\")]')\n",
    "        area_list = [li.find_element_by_xpath('.//div[@class=\"news_area\"]') for li in li_list]\n",
    "        a_list = [area.find_element_by_xpath('.//a[@class=\"news_tit\"]') for area in area_list]\n",
    " \n",
    "        for n in a_list[:min(len(a_list), ct-idx+1)]:\n",
    "            n_url = n.get_attribute('href')\n",
    "            news_dict[idx] = {'title' : n.get_attribute('title'), \n",
    "                              'url' : n_url,\n",
    "                              'text' : crawling_main_text(n_url)}\n",
    "        \n",
    "            idx += 1\n",
    "            pbar.update(1)\n",
    "        \n",
    "        if idx < ct:\n",
    "            cur_page +=1\n",
    "\n",
    "            pages = browser.find_element_by_xpath('//div[@class=\"sc_page_inner\"]')\n",
    "            next_page_url = [p for p in pages.find_elements_by_xpath('.//a') if p.text == str(cur_page)][0].get_attribute('href')\n",
    "\n",
    "            browser.get(next_page_url)\n",
    "            time.sleep(sleep_sec)\n",
    "        else:\n",
    "            pbar.close()\n",
    "        \n",
    "            print('\\n브라우저를 종료합니다.\\n' + '=' * 100)\n",
    "            time.sleep(0.7)\n",
    "            browser.close()\n",
    "            break\n",
    "\n",
    "#### 데이터 전처리하기 ###################################################### \n",
    "\n",
    "    print('데이터프레임 변환\\n')\n",
    "    news_df = DataFrame(news_dict).T\n",
    "\n",
    "    folder_path = os.getcwd()\n",
    "    xlsx_file_name = '네이버뉴스_본문_{}개_{}_{}.xlsx'.format(ct, keyword, date)\n",
    "\n",
    "    news_df.to_excel(xlsx_file_name)\n",
    "\n",
    "    print('엑셀 저장 완료 | 경로 : {}\\\\{}\\n'.format(folder_path, xlsx_file_name))\n",
    "\n",
    "    os.startfile(folder_path)\n",
    "\n",
    "    # print('=' * 100 + '\\n결과물의 일부')\n",
    "    news_df\n",
    "    \n",
    "    return news_df"
   ]
  },
  {
   "cell_type": "code",
   "execution_count": 62,
   "metadata": {},
   "outputs": [],
   "source": [
    "import os\n",
    "import sys\n",
    "import requests\n",
    "import json\n",
    "import urllib.request\n",
    "# import pandas as pd\n",
    "# news_df = pd.read_excel('./news_df.xlsx')\n",
    "\n",
    "def process_b(news_df):\n",
    "    global r1\n",
    "    len(news_df.title)\n",
    "    client_id = \"qj40wl5n0t\"\n",
    "    client_secret = \"1xzXEYgwlsbv9RQxd1onUSByiyvtBDPFV9NEY1mv\"\n",
    "\n",
    "    for i in range(len(news_df.title)):\n",
    "        headers = {\n",
    "        \"X-NCP-APIGW-API-KEY-ID\": client_id,\n",
    "        \"X-NCP-APIGW-API-KEY\": client_secret,\n",
    "        \"Content-Type\": \"application/json\"\n",
    "    }\n",
    "        language = \"ko\" # Language of document (ko, ja )\n",
    "        model = \"news\" # Model used for summaries (general, news)\n",
    "        tone = \"2\" # Converts the tone of the summarized result. (0, 1, 2, 3)\n",
    "        summaryCount = \"3\" # This is the number of sentences for the summarized document.\n",
    "        url= \"https://naveropenapi.apigw.ntruss.com/text-summary/v1/summarize\" \n",
    "        title= \"\"\n",
    "        content = news_df.text[i+1]\n",
    "        data = {\n",
    "            \"document\": {\n",
    "            \"title\": title,\n",
    "            \"content\" : content\n",
    "            },\n",
    "            \"option\": {\n",
    "            \"language\": language,\n",
    "            \"model\": model,\n",
    "            \"tone\": tone,\n",
    "            \"summaryCount\" : summaryCount\n",
    "            }\n",
    "        }\n",
    "        # print(json.dumps(data, indent=4, sort_keys=True))\n",
    "        response = requests.post(url, data=json.dumps(data), headers=headers)\n",
    "        rescode = response.status_code\n",
    "        if(rescode == 200):\n",
    "            r1=response.text  \n",
    "            # print(r1)\n",
    "            \n",
    "        else:\n",
    "            print(\"Error : \" + response.text)\n",
    "        \n",
    "        r1 = json.loads(r1)\n",
    "        r1d = json.loads(r1)\n",
    "        # r1 = json.dumps(r1)\n",
    "        # r1r1= r1['summary']\n",
    "        r1r1 = r1d['summary']\n",
    "        #r1r1= r1.split('연합뉴스')[1]\n",
    "        r2 = '{}번째 뉴스입니다.{}'.format(i+1, r1r1)\n",
    "        print(r2)\n",
    "        li = []\n",
    "        li.append(r2)\n",
    "        \n",
    "        encText = urllib.parse.quote(r1r1)\n",
    "        data = \"speaker=njihun&volume=0&speed=0&pitch=0&format=mp3&text=\" + encText;\n",
    "        url = \"https://naveropenapi.apigw.ntruss.com/tts-premium/v1/tts\"\n",
    "        request = urllib.request.Request(url)\n",
    "        request.add_header(\"X-NCP-APIGW-API-KEY-ID\",client_id)\n",
    "        request.add_header(\"X-NCP-APIGW-API-KEY\",client_secret)\n",
    "        response = urllib.request.urlopen(request, data=data.encode('utf-8'))\n",
    "        rescode = response.getcode()\n",
    "        if(rescode==200):\n",
    "            response_body = response.read()\n",
    "            fn = 'voice{}.mp3'.format(i+1)\n",
    "            with open('/static/'+fn, 'wb') as f:\n",
    "                f.write(response_body)\n",
    "            print(fn)\n",
    "        else:\n",
    "            print(\"Error Code:\" + rescode)\n",
    "            \n",
    "    \n",
    "    return li"
   ]
  },
  {
   "cell_type": "code",
   "execution_count": null,
   "metadata": {},
   "outputs": [],
   "source": []
  },
  {
   "cell_type": "code",
   "execution_count": 42,
   "metadata": {},
   "outputs": [
    {
     "ename": "NameError",
     "evalue": "name 'r1r1' is not defined",
     "output_type": "error",
     "traceback": [
      "\u001b[1;31m---------------------------------------------------------------------------\u001b[0m",
      "\u001b[1;31mNameError\u001b[0m                                 Traceback (most recent call last)",
      "\u001b[1;32m~\\AppData\\Local\\Temp/ipykernel_18216/2997403635.py\u001b[0m in \u001b[0;36m<module>\u001b[1;34m\u001b[0m\n\u001b[1;32m----> 1\u001b[1;33m \u001b[0mprint\u001b[0m\u001b[1;33m(\u001b[0m\u001b[0mr1r1\u001b[0m\u001b[1;33m)\u001b[0m\u001b[1;33m\u001b[0m\u001b[1;33m\u001b[0m\u001b[0m\n\u001b[0m",
      "\u001b[1;31mNameError\u001b[0m: name 'r1r1' is not defined"
     ]
    },
    {
     "name": "stderr",
     "output_type": "stream",
     "text": [
      "t=2022-03-26T02:50:41+0900 lvl=eror msg=\"heartbeat timeout, terminating session\" obj=csess id=e91af4ff2dd0 clientid=c7593c5ba6526ae73929c0466d46863b\n",
      "t=2022-03-26T02:50:41+0900 lvl=eror msg=\"session closed, starting reconnect loop\" obj=csess id=141abe159d04 err=\"read tcp 192.168.10.101:54229->3.133.228.214:443: wsarecv: An existing connection was forcibly closed by the remote host.\"\n",
      "t=2022-03-26T03:06:21+0900 lvl=eror msg=\"heartbeat timeout, terminating session\" obj=csess id=4a23c60ce730 clientid=c7593c5ba6526ae73929c0466d46863b\n",
      "t=2022-03-26T03:06:21+0900 lvl=eror msg=\"session closed, starting reconnect loop\" obj=csess id=141abe159d04 err=\"read EOF from remote peer\"\n",
      "t=2022-03-26T11:11:49+0900 lvl=eror msg=\"session closed, starting reconnect loop\" obj=csess id=141abe159d04 err=\"read EOF from remote peer\"\n",
      "t=2022-03-26T11:11:50+0900 lvl=eror msg=\"heartbeat timeout, terminating session\" obj=csess id=a4512a66de20 clientid=c7593c5ba6526ae73929c0466d46863b\n",
      "t=2022-03-26T11:38:17+0900 lvl=eror msg=\"session closed, starting reconnect loop\" obj=csess id=141abe159d04 err=\"read tcp 192.168.10.101:63896->3.134.73.173:443: wsarecv: An existing connection was forcibly closed by the remote host.\"\n",
      "t=2022-03-26T11:38:17+0900 lvl=eror msg=\"heartbeat timeout, terminating session\" obj=csess id=5c40558512bb clientid=c7593c5ba6526ae73929c0466d46863b\n",
      "t=2022-03-26T22:58:45+0900 lvl=eror msg=\"heartbeat timeout, terminating session\" obj=csess id=2a079e4f1e72 clientid=c7593c5ba6526ae73929c0466d46863b\n",
      "t=2022-03-26T22:58:45+0900 lvl=eror msg=\"session closed, starting reconnect loop\" obj=csess id=141abe159d04 err=\"session closed\"\n",
      "t=2022-03-27T22:08:28+0900 lvl=warn msg=\"failed to open private leg\" id=0bd1e7c79ac0 privaddr=localhost:8000 err=\"dial tcp [::1]:8000: connectex: No connection could be made because the target machine actively refused it.\"\n",
      "t=2022-03-28T01:33:25+0900 lvl=warn msg=\"failed to open private leg\" id=46946664bad0 privaddr=localhost:8000 err=\"dial tcp [::1]:8000: connectex: No connection could be made because the target machine actively refused it.\"\n"
     ]
    }
   ],
   "source": [
    "print(r1r1)"
   ]
  },
  {
   "cell_type": "code",
   "execution_count": 20,
   "metadata": {},
   "outputs": [],
   "source": [
    "audio1 = open(\"voice0.mp3\", \"rb\").read()\n",
    "audio2 = open(\"voice1.mp3\", \"rb\").read()\n",
    "audio3 = open(\"voice2.mp3\", \"rb\").read()\n",
    "audioJoin = audio1 + audio2 + audio3\n",
    "audioFinal = open(\"./templates/audioFinal.mp3\", \"wb\").write(audioJoin)"
   ]
  },
  {
   "cell_type": "code",
   "execution_count": 24,
   "metadata": {},
   "outputs": [],
   "source": [
    "!mkdir static"
   ]
  },
  {
   "cell_type": "code",
   "execution_count": 25,
   "metadata": {},
   "outputs": [],
   "source": [
    "from fastapi.staticfiles import StaticFiles\n",
    "app.mount(\"/static\", StaticFiles(directory=\"static\"), name=\"static\")"
   ]
  },
  {
   "cell_type": "code",
   "execution_count": 38,
   "metadata": {
    "id": "qtiaTV3DvuTB"
   },
   "outputs": [],
   "source": [
    "app=FastAPI()\n",
    "templates = Jinja2Templates(directory=\"templates\")\n",
    "\n",
    "@app.get('/', response_class=HTMLResponse)\n",
    "async def read_topic(request: Request):\n",
    "  return templates.TemplateResponse(\"inputnews.html\", {\"request\": request})\n",
    "\n",
    "@app.post('/topic', response_class=HTMLResponse)\n",
    "async def get_topic(request: Request, keyword: str = Form(...), ct: int = Form(...), result_news: str=Form(...) ):\n",
    "    news_df = process_a(keyword, ct)\n",
    "    result_news = process_b(news_df)\n",
    "    #fn = get_mp3()\n",
    "\n",
    "    return templates.TemplateResponse(\"resultnews.html\", {\"request\": request, 'keyword': keyword, 'ct':ct, 'result_news': result_news})\n",
    "\n",
    "# @app.get(\"/topic\", response_class=HTMLResponse)\n",
    "# def voice(request: Request):\n",
    "#     out = []\n",
    "#     for filename in os.listdir(\"static/\"):\n",
    "#         out.append({\n",
    "#             \"name\": filename.split(\".\")[0],\n",
    "#             \"path\": \"/static/\" + filename\n",
    "#         })\n",
    "#     return templates.TemplateResponse('resultnews.html', {'request': request, 'fn': fn})\n"
   ]
  },
  {
   "cell_type": "code",
   "execution_count": 65,
   "metadata": {
    "scrolled": true
   },
   "outputs": [
    {
     "name": "stdout",
     "output_type": "stream",
     "text": [
      "본문 크롤링에 필요한 함수를 로딩하고 있습니다...\n",
      "----------------------------------------------------------------------------------------------------\n",
      "검색할 언론사 : MBC\n",
      "\n",
      "====================================================================================================\n",
      "\n",
      "브라우저를 실행시킵니다(자동 제어)\n",
      "\n"
     ]
    },
    {
     "name": "stderr",
     "output_type": "stream",
     "text": [
      "C:\\Users\\class\\AppData\\Local\\Temp/ipykernel_18216/2121326648.py:79: DeprecationWarning: executable_path has been deprecated, please pass in a Service object\n",
      "  browser = webdriver.Chrome(chrome_path)\n"
     ]
    },
    {
     "name": "stdout",
     "output_type": "stream",
     "text": [
      "설정한 언론사를 선택합니다.\n",
      "\n"
     ]
    },
    {
     "name": "stderr",
     "output_type": "stream",
     "text": [
      "C:\\Users\\class\\AppData\\Local\\Temp/ipykernel_18216/2121326648.py:89: DeprecationWarning: find_element_by_* commands are deprecated. Please use find_element() instead\n",
      "  search_opn_btn = browser.find_element_by_xpath('//a[@class=\"btn_option _search_option_open_btn\"]')\n",
      "C:\\Users\\class\\AppData\\Local\\Temp/ipykernel_18216/2121326648.py:93: DeprecationWarning: find_element_by_* commands are deprecated. Please use find_element() instead\n",
      "  bx_press = browser.find_element_by_xpath('//div[@role=\"listbox\" and @class=\"api_group_option_sort _search_option_detail_wrap\"]//li[@class=\"bx press\"]')\n"
     ]
    },
    {
     "name": "stdout",
     "output_type": "stream",
     "text": [
      "<방송/통신> 카테고리에서 <MBC>를 찾았으므로 탐색을 종료합니다\n",
      "\n",
      "크롤링을 시작합니다.\n"
     ]
    },
    {
     "name": "stderr",
     "output_type": "stream",
     "text": [
      "  0%|                                                                                            | 0/2 [00:00<?, ?it/s]C:\\Users\\class\\AppData\\Local\\Temp/ipykernel_18216/2121326648.py:146: DeprecationWarning: find_element_by_* commands are deprecated. Please use find_element() instead\n",
      "  table = browser.find_element_by_xpath('//ul[@class=\"list_news\"]')\n",
      "100%|████████████████████████████████████████████████████████████████████████████████████| 2/2 [00:00<00:00,  3.98it/s]\n"
     ]
    },
    {
     "name": "stdout",
     "output_type": "stream",
     "text": [
      "\n",
      "브라우저를 종료합니다.\n",
      "====================================================================================================\n",
      "데이터프레임 변환\n",
      "\n",
      "엑셀 저장 완료 | 경로 : C:\\Users\\class\\OneDrive\\문서\\네이버뉴스_본문_2개_고양이_2022-03-28_10시22분.xlsx\n",
      "\n",
      "Error : {\"status\":400,\"error\":{\"errorCode\":\"E003\",\"message\":\"Text quota Exceeded\"}}\n"
     ]
    },
    {
     "ename": "NameError",
     "evalue": "name 'r1' is not defined",
     "output_type": "error",
     "traceback": [
      "\u001b[1;31m---------------------------------------------------------------------------\u001b[0m",
      "\u001b[1;31mNameError\u001b[0m                                 Traceback (most recent call last)",
      "\u001b[1;32m~\\AppData\\Local\\Temp/ipykernel_18216/3957771791.py\u001b[0m in \u001b[0;36m<module>\u001b[1;34m\u001b[0m\n\u001b[1;32m----> 1\u001b[1;33m \u001b[0mresult\u001b[0m \u001b[1;33m=\u001b[0m \u001b[0mprocess_b\u001b[0m\u001b[1;33m(\u001b[0m\u001b[0mprocess_a\u001b[0m\u001b[1;33m(\u001b[0m\u001b[1;34m'고양이'\u001b[0m\u001b[1;33m,\u001b[0m \u001b[1;36m2\u001b[0m\u001b[1;33m)\u001b[0m\u001b[1;33m)\u001b[0m\u001b[1;33m\u001b[0m\u001b[1;33m\u001b[0m\u001b[0m\n\u001b[0m",
      "\u001b[1;32m~\\AppData\\Local\\Temp/ipykernel_18216/741223852.py\u001b[0m in \u001b[0;36mprocess_b\u001b[1;34m(news_df)\u001b[0m\n\u001b[0;32m     48\u001b[0m             \u001b[0mprint\u001b[0m\u001b[1;33m(\u001b[0m\u001b[1;34m\"Error : \"\u001b[0m \u001b[1;33m+\u001b[0m \u001b[0mresponse\u001b[0m\u001b[1;33m.\u001b[0m\u001b[0mtext\u001b[0m\u001b[1;33m)\u001b[0m\u001b[1;33m\u001b[0m\u001b[1;33m\u001b[0m\u001b[0m\n\u001b[0;32m     49\u001b[0m \u001b[1;33m\u001b[0m\u001b[0m\n\u001b[1;32m---> 50\u001b[1;33m         \u001b[0mr1\u001b[0m \u001b[1;33m=\u001b[0m \u001b[0mjson\u001b[0m\u001b[1;33m.\u001b[0m\u001b[0mloads\u001b[0m\u001b[1;33m(\u001b[0m\u001b[0mr1\u001b[0m\u001b[1;33m)\u001b[0m\u001b[1;33m\u001b[0m\u001b[1;33m\u001b[0m\u001b[0m\n\u001b[0m\u001b[0;32m     51\u001b[0m         \u001b[0mr1d\u001b[0m \u001b[1;33m=\u001b[0m \u001b[0mjson\u001b[0m\u001b[1;33m.\u001b[0m\u001b[0mloads\u001b[0m\u001b[1;33m(\u001b[0m\u001b[0mr1\u001b[0m\u001b[1;33m)\u001b[0m\u001b[1;33m\u001b[0m\u001b[1;33m\u001b[0m\u001b[0m\n\u001b[0;32m     52\u001b[0m         \u001b[1;31m# r1 = json.dumps(r1)\u001b[0m\u001b[1;33m\u001b[0m\u001b[1;33m\u001b[0m\u001b[0m\n",
      "\u001b[1;31mNameError\u001b[0m: name 'r1' is not defined"
     ]
    }
   ],
   "source": [
    "\n",
    "result = process_b(process_a('고양이', 2))"
   ]
  },
  {
   "cell_type": "code",
   "execution_count": 59,
   "metadata": {},
   "outputs": [
    {
     "name": "stdout",
     "output_type": "stream",
     "text": [
      "본문 크롤링에 필요한 함수를 로딩하고 있습니다...\n",
      "----------------------------------------------------------------------------------------------------\n",
      "검색할 언론사 : MBC\n",
      "\n",
      "====================================================================================================\n",
      "\n",
      "브라우저를 실행시킵니다(자동 제어)\n",
      "\n"
     ]
    },
    {
     "name": "stderr",
     "output_type": "stream",
     "text": [
      "C:\\Users\\class\\AppData\\Local\\Temp/ipykernel_18216/2079200753.py:79: DeprecationWarning: executable_path has been deprecated, please pass in a Service object\n",
      "  browser = webdriver.Chrome(chrome_path)\n"
     ]
    },
    {
     "name": "stdout",
     "output_type": "stream",
     "text": [
      "설정한 언론사를 선택합니다.\n",
      "\n"
     ]
    },
    {
     "name": "stderr",
     "output_type": "stream",
     "text": [
      "C:\\Users\\class\\AppData\\Local\\Temp/ipykernel_18216/2079200753.py:89: DeprecationWarning: find_element_by_* commands are deprecated. Please use find_element() instead\n",
      "  search_opn_btn = browser.find_element_by_xpath('//a[@class=\"btn_option _search_option_open_btn\"]')\n",
      "C:\\Users\\class\\AppData\\Local\\Temp/ipykernel_18216/2079200753.py:93: DeprecationWarning: find_element_by_* commands are deprecated. Please use find_element() instead\n",
      "  bx_press = browser.find_element_by_xpath('//div[@role=\"listbox\" and @class=\"api_group_option_sort _search_option_detail_wrap\"]//li[@class=\"bx press\"]')\n"
     ]
    },
    {
     "ename": "ElementNotInteractableException",
     "evalue": "Message: element not interactable\n  (Session info: chrome=99.0.4844.82)\nStacktrace:\nBacktrace:\n\tOrdinal0 [0x00AC9943+2595139]\n\tOrdinal0 [0x00A5C9F1+2148849]\n\tOrdinal0 [0x009543F0+1065968]\n\tOrdinal0 [0x00981F17+1253143]\n\tOrdinal0 [0x00977AB3+1211059]\n\tOrdinal0 [0x0099B9EC+1358316]\n\tOrdinal0 [0x00977474+1209460]\n\tOrdinal0 [0x0099BC04+1358852]\n\tOrdinal0 [0x009ABAF2+1424114]\n\tOrdinal0 [0x0099B806+1357830]\n\tOrdinal0 [0x00976086+1204358]\n\tOrdinal0 [0x00976F96+1208214]\n\tGetHandleVerifier [0x00C6B232+1658114]\n\tGetHandleVerifier [0x00D2312C+2411516]\n\tGetHandleVerifier [0x00B5F261+560433]\n\tGetHandleVerifier [0x00B5E366+556598]\n\tOrdinal0 [0x00A6286B+2173035]\n\tOrdinal0 [0x00A675F8+2192888]\n\tOrdinal0 [0x00A676E5+2193125]\n\tOrdinal0 [0x00A711FC+2232828]\n\tBaseThreadInitThunk [0x75F26739+25]\n\tRtlGetFullPathName_UEx [0x77558E7F+1215]\n\tRtlGetFullPathName_UEx [0x77558E4D+1165]\n",
     "output_type": "error",
     "traceback": [
      "\u001b[1;31m---------------------------------------------------------------------------\u001b[0m",
      "\u001b[1;31mElementNotInteractableException\u001b[0m           Traceback (most recent call last)",
      "\u001b[1;32m~\\AppData\\Local\\Temp/ipykernel_18216/473941455.py\u001b[0m in \u001b[0;36m<module>\u001b[1;34m\u001b[0m\n\u001b[1;32m----> 1\u001b[1;33m \u001b[0mdf\u001b[0m \u001b[1;33m=\u001b[0m \u001b[0mprocess_a\u001b[0m\u001b[1;33m(\u001b[0m\u001b[1;34m'반려견'\u001b[0m\u001b[1;33m,\u001b[0m\u001b[1;36m2\u001b[0m\u001b[1;33m)\u001b[0m\u001b[1;33m\u001b[0m\u001b[1;33m\u001b[0m\u001b[0m\n\u001b[0m",
      "\u001b[1;32m~\\AppData\\Local\\Temp/ipykernel_18216/2079200753.py\u001b[0m in \u001b[0;36mprocess_a\u001b[1;34m(keyword, ct)\u001b[0m\n\u001b[0;32m     95\u001b[0m \u001b[1;31m# 기준 두번 째(언론사 분류순) 클릭하고 오픈하기\u001b[0m\u001b[1;33m\u001b[0m\u001b[1;33m\u001b[0m\u001b[0m\n\u001b[0;32m     96\u001b[0m     \u001b[0mpress_tablist\u001b[0m \u001b[1;33m=\u001b[0m \u001b[0mbx_press\u001b[0m\u001b[1;33m.\u001b[0m\u001b[0mfind_elements_by_xpath\u001b[0m\u001b[1;33m(\u001b[0m\u001b[1;34m'.//div[@role=\"tablist\" and @class=\"option\"]/a'\u001b[0m\u001b[1;33m)\u001b[0m\u001b[1;33m\u001b[0m\u001b[1;33m\u001b[0m\u001b[0m\n\u001b[1;32m---> 97\u001b[1;33m     \u001b[0mpress_tablist\u001b[0m\u001b[1;33m[\u001b[0m\u001b[1;36m1\u001b[0m\u001b[1;33m]\u001b[0m\u001b[1;33m.\u001b[0m\u001b[0mclick\u001b[0m\u001b[1;33m(\u001b[0m\u001b[1;33m)\u001b[0m\u001b[1;33m\u001b[0m\u001b[1;33m\u001b[0m\u001b[0m\n\u001b[0m\u001b[0;32m     98\u001b[0m     \u001b[0mtime\u001b[0m\u001b[1;33m.\u001b[0m\u001b[0msleep\u001b[0m\u001b[1;33m(\u001b[0m\u001b[0msleep_sec\u001b[0m\u001b[1;33m)\u001b[0m\u001b[1;33m\u001b[0m\u001b[1;33m\u001b[0m\u001b[0m\n\u001b[0;32m     99\u001b[0m \u001b[1;33m\u001b[0m\u001b[0m\n",
      "\u001b[1;32m~\\anaconda3\\lib\\site-packages\\selenium\\webdriver\\remote\\webelement.py\u001b[0m in \u001b[0;36mclick\u001b[1;34m(self)\u001b[0m\n\u001b[0;32m     79\u001b[0m     \u001b[1;32mdef\u001b[0m \u001b[0mclick\u001b[0m\u001b[1;33m(\u001b[0m\u001b[0mself\u001b[0m\u001b[1;33m)\u001b[0m \u001b[1;33m->\u001b[0m \u001b[1;32mNone\u001b[0m\u001b[1;33m:\u001b[0m\u001b[1;33m\u001b[0m\u001b[1;33m\u001b[0m\u001b[0m\n\u001b[0;32m     80\u001b[0m         \u001b[1;34m\"\"\"Clicks the element.\"\"\"\u001b[0m\u001b[1;33m\u001b[0m\u001b[1;33m\u001b[0m\u001b[0m\n\u001b[1;32m---> 81\u001b[1;33m         \u001b[0mself\u001b[0m\u001b[1;33m.\u001b[0m\u001b[0m_execute\u001b[0m\u001b[1;33m(\u001b[0m\u001b[0mCommand\u001b[0m\u001b[1;33m.\u001b[0m\u001b[0mCLICK_ELEMENT\u001b[0m\u001b[1;33m)\u001b[0m\u001b[1;33m\u001b[0m\u001b[1;33m\u001b[0m\u001b[0m\n\u001b[0m\u001b[0;32m     82\u001b[0m \u001b[1;33m\u001b[0m\u001b[0m\n\u001b[0;32m     83\u001b[0m     \u001b[1;32mdef\u001b[0m \u001b[0msubmit\u001b[0m\u001b[1;33m(\u001b[0m\u001b[0mself\u001b[0m\u001b[1;33m)\u001b[0m\u001b[1;33m:\u001b[0m\u001b[1;33m\u001b[0m\u001b[1;33m\u001b[0m\u001b[0m\n",
      "\u001b[1;32m~\\anaconda3\\lib\\site-packages\\selenium\\webdriver\\remote\\webelement.py\u001b[0m in \u001b[0;36m_execute\u001b[1;34m(self, command, params)\u001b[0m\n\u001b[0;32m    708\u001b[0m             \u001b[0mparams\u001b[0m \u001b[1;33m=\u001b[0m \u001b[1;33m{\u001b[0m\u001b[1;33m}\u001b[0m\u001b[1;33m\u001b[0m\u001b[1;33m\u001b[0m\u001b[0m\n\u001b[0;32m    709\u001b[0m         \u001b[0mparams\u001b[0m\u001b[1;33m[\u001b[0m\u001b[1;34m'id'\u001b[0m\u001b[1;33m]\u001b[0m \u001b[1;33m=\u001b[0m \u001b[0mself\u001b[0m\u001b[1;33m.\u001b[0m\u001b[0m_id\u001b[0m\u001b[1;33m\u001b[0m\u001b[1;33m\u001b[0m\u001b[0m\n\u001b[1;32m--> 710\u001b[1;33m         \u001b[1;32mreturn\u001b[0m \u001b[0mself\u001b[0m\u001b[1;33m.\u001b[0m\u001b[0m_parent\u001b[0m\u001b[1;33m.\u001b[0m\u001b[0mexecute\u001b[0m\u001b[1;33m(\u001b[0m\u001b[0mcommand\u001b[0m\u001b[1;33m,\u001b[0m \u001b[0mparams\u001b[0m\u001b[1;33m)\u001b[0m\u001b[1;33m\u001b[0m\u001b[1;33m\u001b[0m\u001b[0m\n\u001b[0m\u001b[0;32m    711\u001b[0m \u001b[1;33m\u001b[0m\u001b[0m\n\u001b[0;32m    712\u001b[0m     \u001b[1;32mdef\u001b[0m \u001b[0mfind_element\u001b[0m\u001b[1;33m(\u001b[0m\u001b[0mself\u001b[0m\u001b[1;33m,\u001b[0m \u001b[0mby\u001b[0m\u001b[1;33m=\u001b[0m\u001b[0mBy\u001b[0m\u001b[1;33m.\u001b[0m\u001b[0mID\u001b[0m\u001b[1;33m,\u001b[0m \u001b[0mvalue\u001b[0m\u001b[1;33m=\u001b[0m\u001b[1;32mNone\u001b[0m\u001b[1;33m)\u001b[0m\u001b[1;33m:\u001b[0m\u001b[1;33m\u001b[0m\u001b[1;33m\u001b[0m\u001b[0m\n",
      "\u001b[1;32m~\\anaconda3\\lib\\site-packages\\selenium\\webdriver\\remote\\webdriver.py\u001b[0m in \u001b[0;36mexecute\u001b[1;34m(self, driver_command, params)\u001b[0m\n\u001b[0;32m    422\u001b[0m         \u001b[0mresponse\u001b[0m \u001b[1;33m=\u001b[0m \u001b[0mself\u001b[0m\u001b[1;33m.\u001b[0m\u001b[0mcommand_executor\u001b[0m\u001b[1;33m.\u001b[0m\u001b[0mexecute\u001b[0m\u001b[1;33m(\u001b[0m\u001b[0mdriver_command\u001b[0m\u001b[1;33m,\u001b[0m \u001b[0mparams\u001b[0m\u001b[1;33m)\u001b[0m\u001b[1;33m\u001b[0m\u001b[1;33m\u001b[0m\u001b[0m\n\u001b[0;32m    423\u001b[0m         \u001b[1;32mif\u001b[0m \u001b[0mresponse\u001b[0m\u001b[1;33m:\u001b[0m\u001b[1;33m\u001b[0m\u001b[1;33m\u001b[0m\u001b[0m\n\u001b[1;32m--> 424\u001b[1;33m             \u001b[0mself\u001b[0m\u001b[1;33m.\u001b[0m\u001b[0merror_handler\u001b[0m\u001b[1;33m.\u001b[0m\u001b[0mcheck_response\u001b[0m\u001b[1;33m(\u001b[0m\u001b[0mresponse\u001b[0m\u001b[1;33m)\u001b[0m\u001b[1;33m\u001b[0m\u001b[1;33m\u001b[0m\u001b[0m\n\u001b[0m\u001b[0;32m    425\u001b[0m             response['value'] = self._unwrap_value(\n\u001b[0;32m    426\u001b[0m                 response.get('value', None))\n",
      "\u001b[1;32m~\\anaconda3\\lib\\site-packages\\selenium\\webdriver\\remote\\errorhandler.py\u001b[0m in \u001b[0;36mcheck_response\u001b[1;34m(self, response)\u001b[0m\n\u001b[0;32m    245\u001b[0m                 \u001b[0malert_text\u001b[0m \u001b[1;33m=\u001b[0m \u001b[0mvalue\u001b[0m\u001b[1;33m[\u001b[0m\u001b[1;34m'alert'\u001b[0m\u001b[1;33m]\u001b[0m\u001b[1;33m.\u001b[0m\u001b[0mget\u001b[0m\u001b[1;33m(\u001b[0m\u001b[1;34m'text'\u001b[0m\u001b[1;33m)\u001b[0m\u001b[1;33m\u001b[0m\u001b[1;33m\u001b[0m\u001b[0m\n\u001b[0;32m    246\u001b[0m             \u001b[1;32mraise\u001b[0m \u001b[0mexception_class\u001b[0m\u001b[1;33m(\u001b[0m\u001b[0mmessage\u001b[0m\u001b[1;33m,\u001b[0m \u001b[0mscreen\u001b[0m\u001b[1;33m,\u001b[0m \u001b[0mstacktrace\u001b[0m\u001b[1;33m,\u001b[0m \u001b[0malert_text\u001b[0m\u001b[1;33m)\u001b[0m  \u001b[1;31m# type: ignore[call-arg]  # mypy is not smart enough here\u001b[0m\u001b[1;33m\u001b[0m\u001b[1;33m\u001b[0m\u001b[0m\n\u001b[1;32m--> 247\u001b[1;33m         \u001b[1;32mraise\u001b[0m \u001b[0mexception_class\u001b[0m\u001b[1;33m(\u001b[0m\u001b[0mmessage\u001b[0m\u001b[1;33m,\u001b[0m \u001b[0mscreen\u001b[0m\u001b[1;33m,\u001b[0m \u001b[0mstacktrace\u001b[0m\u001b[1;33m)\u001b[0m\u001b[1;33m\u001b[0m\u001b[1;33m\u001b[0m\u001b[0m\n\u001b[0m\u001b[0;32m    248\u001b[0m \u001b[1;33m\u001b[0m\u001b[0m\n\u001b[0;32m    249\u001b[0m     \u001b[1;32mdef\u001b[0m \u001b[0m_value_or_default\u001b[0m\u001b[1;33m(\u001b[0m\u001b[0mself\u001b[0m\u001b[1;33m,\u001b[0m \u001b[0mobj\u001b[0m\u001b[1;33m:\u001b[0m \u001b[0mMapping\u001b[0m\u001b[1;33m[\u001b[0m\u001b[0m_KT\u001b[0m\u001b[1;33m,\u001b[0m \u001b[0m_VT\u001b[0m\u001b[1;33m]\u001b[0m\u001b[1;33m,\u001b[0m \u001b[0mkey\u001b[0m\u001b[1;33m:\u001b[0m \u001b[0m_KT\u001b[0m\u001b[1;33m,\u001b[0m \u001b[0mdefault\u001b[0m\u001b[1;33m:\u001b[0m \u001b[0m_VT\u001b[0m\u001b[1;33m)\u001b[0m \u001b[1;33m->\u001b[0m \u001b[0m_VT\u001b[0m\u001b[1;33m:\u001b[0m\u001b[1;33m\u001b[0m\u001b[1;33m\u001b[0m\u001b[0m\n",
      "\u001b[1;31mElementNotInteractableException\u001b[0m: Message: element not interactable\n  (Session info: chrome=99.0.4844.82)\nStacktrace:\nBacktrace:\n\tOrdinal0 [0x00AC9943+2595139]\n\tOrdinal0 [0x00A5C9F1+2148849]\n\tOrdinal0 [0x009543F0+1065968]\n\tOrdinal0 [0x00981F17+1253143]\n\tOrdinal0 [0x00977AB3+1211059]\n\tOrdinal0 [0x0099B9EC+1358316]\n\tOrdinal0 [0x00977474+1209460]\n\tOrdinal0 [0x0099BC04+1358852]\n\tOrdinal0 [0x009ABAF2+1424114]\n\tOrdinal0 [0x0099B806+1357830]\n\tOrdinal0 [0x00976086+1204358]\n\tOrdinal0 [0x00976F96+1208214]\n\tGetHandleVerifier [0x00C6B232+1658114]\n\tGetHandleVerifier [0x00D2312C+2411516]\n\tGetHandleVerifier [0x00B5F261+560433]\n\tGetHandleVerifier [0x00B5E366+556598]\n\tOrdinal0 [0x00A6286B+2173035]\n\tOrdinal0 [0x00A675F8+2192888]\n\tOrdinal0 [0x00A676E5+2193125]\n\tOrdinal0 [0x00A711FC+2232828]\n\tBaseThreadInitThunk [0x75F26739+25]\n\tRtlGetFullPathName_UEx [0x77558E7F+1215]\n\tRtlGetFullPathName_UEx [0x77558E4D+1165]\n"
     ]
    }
   ],
   "source": [
    "df = process_a('반려견',2)"
   ]
  },
  {
   "cell_type": "code",
   "execution_count": 13,
   "metadata": {
    "colab": {
     "base_uri": "https://localhost:8080/"
    },
    "id": "Xai-ntaMxtYP",
    "outputId": "e2b9c645-fc33-4b41-bace-4555da91e4b3"
   },
   "outputs": [
    {
     "name": "stdout",
     "output_type": "stream",
     "text": [
      "Authtoken saved to configuration file: C:\\Users\\class/.ngrok2/ngrok.yml\n"
     ]
    }
   ],
   "source": [
    "!ngrok authtoken 26P5PTLiceT3jUQpHS9gh4yOvFV_2P7DFVLKYpsARbZfaWmGR"
   ]
  },
  {
   "cell_type": "code",
   "execution_count": null,
   "metadata": {
    "colab": {
     "base_uri": "https://localhost:8080/"
    },
    "id": "rNsYG9x9vuV-",
    "outputId": "7a1d7ab1-c0b8-4aa3-da66-34540d661600"
   },
   "outputs": [],
   "source": [
    "ngrok_tunnel = ngrok.connect(8000)\n",
    "print ('Public URL:', ngrok_tunnel.public_url) \n",
    "nest_asyncio.apply()\n",
    "uvicorn.run(app, host='0.0.0.0', port=8000)"
   ]
  },
  {
   "cell_type": "markdown",
   "metadata": {},
   "source": [
    "### 파일을 합쳐서 새로운 파일로. \n",
    "audio1 = open(\"voice0.mp3\", \"rb\").read()\n",
    "audio2 = open(\"voice1.mp3\", \"rb\").read()\n",
    "audio3 = open(\"voice2.mp3\", \"rb\").read()\n",
    "audioJoin = audio1 + audio2 + audio3\n",
    "audioFinal = open(\"./templates/audioFinal.mp3\", \"wb\").write(audioJoin)"
   ]
  },
  {
   "cell_type": "code",
   "execution_count": null,
   "metadata": {},
   "outputs": [],
   "source": [
    "@app.get(\"/\")\n",
    "def main():\n",
    "    def iterfile():  # \n",
    "        with open(some_file_path, mode=\"rb\") as file_like:  # \n",
    "            yield from file_like  # \n",
    "\n",
    "    return StreamingResponse(iterfile(), media_type=\"video/mp3\")"
   ]
  },
  {
   "cell_type": "code",
   "execution_count": 30,
   "metadata": {},
   "outputs": [],
   "source": [
    "def get_mp3():\n",
    "    p_list = find_file()  \n",
    "    li = p_list.reverse()\n",
    "    fname = li.pop()\n",
    "    return fname\n",
    "\n"
   ]
  },
  {
   "cell_type": "code",
   "execution_count": 29,
   "metadata": {},
   "outputs": [],
   "source": [
    "## 현재폴더 mp3 확장자 파일 찾아줌. \n",
    "def find_file():\n",
    "    fileDir = './static/'\n",
    "    #fileDir = os.getcwd()\n",
    "    fileExt = r\".mp3\"\n",
    "    list = [os.path.join(fileDir, _) for _ in os.listdir(fileDir) if _.endswith(fileExt)]\n",
    "    path_list = []\n",
    "    for path in list:\n",
    "        path = path.replace('\\\\', '/')\n",
    "        path_list.append(path)\n",
    "    return path_list \n",
    "\n",
    "# ## 소리 재생 , 0누르면 종료 \n",
    "# def play_sound(path_list):\n",
    "#     for path in path_list :\n",
    "#         playsound.playsound(path, False)\n",
    "#         k = int(input('Press 0 if you want to stop'))\n",
    "#         if k == 0: \n",
    "#             playsound(None)\n",
    "\n",
    "    "
   ]
  },
  {
   "cell_type": "code",
   "execution_count": 8,
   "metadata": {},
   "outputs": [],
   "source": [
    "import playsound \n"
   ]
  },
  {
   "cell_type": "code",
   "execution_count": null,
   "metadata": {},
   "outputs": [],
   "source": []
  },
  {
   "cell_type": "code",
   "execution_count": 12,
   "metadata": {
    "id": "ZSNIVFh4vuY2"
   },
   "outputs": [
    {
     "name": "stderr",
     "output_type": "stream",
     "text": [
      "t=2022-03-25T14:18:41+0900 lvl=warn msg=\"can't bind default web address, trying alternatives\" obj=web addr=127.0.0.1:4040\n",
      "t=2022-03-25T14:18:42+0900 lvl=eror msg=\"failed to auth\" obj=tunnels.session err=\"Your account is limited to 1 simultaneous ngrok client session.\\nActive ngrok client sessions in region 'us':\\n  - ts_26rVhFF43U5zrSB9THJpJiKDnX7 (35.231.139.213)\\r\\n\\r\\nERR_NGROK_108\\r\\n\"\n",
      "t=2022-03-25T14:18:42+0900 lvl=eror msg=\"failed to reconnect session\" obj=csess id=fc6addbdc3da err=\"Your account is limited to 1 simultaneous ngrok client session.\\nActive ngrok client sessions in region 'us':\\n  - ts_26rVhFF43U5zrSB9THJpJiKDnX7 (35.231.139.213)\\r\\n\\r\\nERR_NGROK_108\\r\\n\"\n",
      "t=2022-03-25T14:18:42+0900 lvl=eror msg=\"session closing\" obj=tunnels.session err=\"Your account is limited to 1 simultaneous ngrok client session.\\nActive ngrok client sessions in region 'us':\\n  - ts_26rVhFF43U5zrSB9THJpJiKDnX7 (35.231.139.213)\\r\\n\\r\\nERR_NGROK_108\\r\\n\"\n",
      "t=2022-03-25T14:18:42+0900 lvl=eror msg=\"terminating with error\" obj=app err=\"Your account is limited to 1 simultaneous ngrok client session.\\nActive ngrok client sessions in region 'us':\\n  - ts_26rVhFF43U5zrSB9THJpJiKDnX7 (35.231.139.213)\\r\\n\\r\\nERR_NGROK_108\\r\\n\"\n",
      "t=2022-03-25T14:18:42+0900 lvl=crit msg=\"command failed\" err=\"Your account is limited to 1 simultaneous ngrok client session.\\nActive ngrok client sessions in region 'us':\\n  - ts_26rVhFF43U5zrSB9THJpJiKDnX7 (35.231.139.213)\\r\\n\\r\\nERR_NGROK_108\\r\\n\"\n"
     ]
    },
    {
     "ename": "PyngrokNgrokError",
     "evalue": "The ngrok process errored on start: Your account is limited to 1 simultaneous ngrok client session.\\nActive ngrok client sessions in region 'us':\\n  - ts_26rVhFF43U5zrSB9THJpJiKDnX7 (35.231.139.213)\\r\\n\\r\\nERR_NGROK_108\\r\\n.",
     "output_type": "error",
     "traceback": [
      "\u001b[1;31m---------------------------------------------------------------------------\u001b[0m",
      "\u001b[1;31mPyngrokNgrokError\u001b[0m                         Traceback (most recent call last)",
      "\u001b[1;32m~\\AppData\\Local\\Temp/ipykernel_18216/2211232177.py\u001b[0m in \u001b[0;36m<module>\u001b[1;34m\u001b[0m\n\u001b[0;32m     11\u001b[0m   \u001b[1;32mreturn\u001b[0m \u001b[1;34m'Hello World'\u001b[0m\u001b[1;33m\u001b[0m\u001b[1;33m\u001b[0m\u001b[0m\n\u001b[0;32m     12\u001b[0m \u001b[1;33m\u001b[0m\u001b[0m\n\u001b[1;32m---> 13\u001b[1;33m \u001b[0mngrok_tunnel\u001b[0m \u001b[1;33m=\u001b[0m \u001b[0mngrok\u001b[0m\u001b[1;33m.\u001b[0m\u001b[0mconnect\u001b[0m\u001b[1;33m(\u001b[0m\u001b[1;36m8000\u001b[0m\u001b[1;33m)\u001b[0m\u001b[1;33m\u001b[0m\u001b[1;33m\u001b[0m\u001b[0m\n\u001b[0m\u001b[0;32m     14\u001b[0m \u001b[0mprint\u001b[0m\u001b[1;33m(\u001b[0m\u001b[1;34m'Public URL:'\u001b[0m\u001b[1;33m,\u001b[0m \u001b[0mngrok_tunnel\u001b[0m\u001b[1;33m.\u001b[0m\u001b[0mpublic_url\u001b[0m\u001b[1;33m)\u001b[0m\u001b[1;33m\u001b[0m\u001b[1;33m\u001b[0m\u001b[0m\n\u001b[0;32m     15\u001b[0m \u001b[0mnest_asyncio\u001b[0m\u001b[1;33m.\u001b[0m\u001b[0mapply\u001b[0m\u001b[1;33m(\u001b[0m\u001b[1;33m)\u001b[0m\u001b[1;33m\u001b[0m\u001b[1;33m\u001b[0m\u001b[0m\n",
      "\u001b[1;32m~\\anaconda3\\lib\\site-packages\\pyngrok\\ngrok.py\u001b[0m in \u001b[0;36mconnect\u001b[1;34m(addr, proto, name, pyngrok_config, **options)\u001b[0m\n\u001b[0;32m    249\u001b[0m     \u001b[0moptions\u001b[0m\u001b[1;33m.\u001b[0m\u001b[0mupdate\u001b[0m\u001b[1;33m(\u001b[0m\u001b[0mconfig\u001b[0m\u001b[1;33m)\u001b[0m\u001b[1;33m\u001b[0m\u001b[1;33m\u001b[0m\u001b[0m\n\u001b[0;32m    250\u001b[0m \u001b[1;33m\u001b[0m\u001b[0m\n\u001b[1;32m--> 251\u001b[1;33m     \u001b[0mapi_url\u001b[0m \u001b[1;33m=\u001b[0m \u001b[0mget_ngrok_process\u001b[0m\u001b[1;33m(\u001b[0m\u001b[0mpyngrok_config\u001b[0m\u001b[1;33m)\u001b[0m\u001b[1;33m.\u001b[0m\u001b[0mapi_url\u001b[0m\u001b[1;33m\u001b[0m\u001b[1;33m\u001b[0m\u001b[0m\n\u001b[0m\u001b[0;32m    252\u001b[0m \u001b[1;33m\u001b[0m\u001b[0m\n\u001b[0;32m    253\u001b[0m     \u001b[0mlogger\u001b[0m\u001b[1;33m.\u001b[0m\u001b[0mdebug\u001b[0m\u001b[1;33m(\u001b[0m\u001b[1;34m\"Creating tunnel with options: {}\"\u001b[0m\u001b[1;33m.\u001b[0m\u001b[0mformat\u001b[0m\u001b[1;33m(\u001b[0m\u001b[0moptions\u001b[0m\u001b[1;33m)\u001b[0m\u001b[1;33m)\u001b[0m\u001b[1;33m\u001b[0m\u001b[1;33m\u001b[0m\u001b[0m\n",
      "\u001b[1;32m~\\anaconda3\\lib\\site-packages\\pyngrok\\ngrok.py\u001b[0m in \u001b[0;36mget_ngrok_process\u001b[1;34m(pyngrok_config)\u001b[0m\n\u001b[0;32m    160\u001b[0m     \u001b[0minstall_ngrok\u001b[0m\u001b[1;33m(\u001b[0m\u001b[0mpyngrok_config\u001b[0m\u001b[1;33m)\u001b[0m\u001b[1;33m\u001b[0m\u001b[1;33m\u001b[0m\u001b[0m\n\u001b[0;32m    161\u001b[0m \u001b[1;33m\u001b[0m\u001b[0m\n\u001b[1;32m--> 162\u001b[1;33m     \u001b[1;32mreturn\u001b[0m \u001b[0mprocess\u001b[0m\u001b[1;33m.\u001b[0m\u001b[0mget_process\u001b[0m\u001b[1;33m(\u001b[0m\u001b[0mpyngrok_config\u001b[0m\u001b[1;33m)\u001b[0m\u001b[1;33m\u001b[0m\u001b[1;33m\u001b[0m\u001b[0m\n\u001b[0m\u001b[0;32m    163\u001b[0m \u001b[1;33m\u001b[0m\u001b[0m\n\u001b[0;32m    164\u001b[0m \u001b[1;33m\u001b[0m\u001b[0m\n",
      "\u001b[1;32m~\\anaconda3\\lib\\site-packages\\pyngrok\\process.py\u001b[0m in \u001b[0;36mget_process\u001b[1;34m(pyngrok_config)\u001b[0m\n\u001b[0;32m    293\u001b[0m         \u001b[1;32mreturn\u001b[0m \u001b[0m_current_processes\u001b[0m\u001b[1;33m[\u001b[0m\u001b[0mpyngrok_config\u001b[0m\u001b[1;33m.\u001b[0m\u001b[0mngrok_path\u001b[0m\u001b[1;33m]\u001b[0m\u001b[1;33m\u001b[0m\u001b[1;33m\u001b[0m\u001b[0m\n\u001b[0;32m    294\u001b[0m \u001b[1;33m\u001b[0m\u001b[0m\n\u001b[1;32m--> 295\u001b[1;33m     \u001b[1;32mreturn\u001b[0m \u001b[0m_start_process\u001b[0m\u001b[1;33m(\u001b[0m\u001b[0mpyngrok_config\u001b[0m\u001b[1;33m)\u001b[0m\u001b[1;33m\u001b[0m\u001b[1;33m\u001b[0m\u001b[0m\n\u001b[0m\u001b[0;32m    296\u001b[0m \u001b[1;33m\u001b[0m\u001b[0m\n\u001b[0;32m    297\u001b[0m \u001b[1;33m\u001b[0m\u001b[0m\n",
      "\u001b[1;32m~\\anaconda3\\lib\\site-packages\\pyngrok\\process.py\u001b[0m in \u001b[0;36m_start_process\u001b[1;34m(pyngrok_config)\u001b[0m\n\u001b[0;32m    462\u001b[0m \u001b[1;33m\u001b[0m\u001b[0m\n\u001b[0;32m    463\u001b[0m         \u001b[1;32mif\u001b[0m \u001b[0mngrok_process\u001b[0m\u001b[1;33m.\u001b[0m\u001b[0mstartup_error\u001b[0m \u001b[1;32mis\u001b[0m \u001b[1;32mnot\u001b[0m \u001b[1;32mNone\u001b[0m\u001b[1;33m:\u001b[0m\u001b[1;33m\u001b[0m\u001b[1;33m\u001b[0m\u001b[0m\n\u001b[1;32m--> 464\u001b[1;33m             raise PyngrokNgrokError(\"The ngrok process errored on start: {}.\".format(ngrok_process.startup_error),\n\u001b[0m\u001b[0;32m    465\u001b[0m                                     \u001b[0mngrok_process\u001b[0m\u001b[1;33m.\u001b[0m\u001b[0mlogs\u001b[0m\u001b[1;33m,\u001b[0m\u001b[1;33m\u001b[0m\u001b[1;33m\u001b[0m\u001b[0m\n\u001b[0;32m    466\u001b[0m                                     ngrok_process.startup_error)\n",
      "\u001b[1;31mPyngrokNgrokError\u001b[0m: The ngrok process errored on start: Your account is limited to 1 simultaneous ngrok client session.\\nActive ngrok client sessions in region 'us':\\n  - ts_26rVhFF43U5zrSB9THJpJiKDnX7 (35.231.139.213)\\r\\n\\r\\nERR_NGROK_108\\r\\n."
     ]
    }
   ],
   "source": [
    "from typing import Optional\n",
    "from fastapi import FastAPI\n",
    "import nest_asyncio\n",
    "from pyngrok import ngrok\n",
    "import uvicorn\n",
    "\n",
    "app = FastAPI()\n",
    "\n",
    "@app.get('/')\n",
    "async def home():\n",
    "  return 'Hello World'\n",
    "\n",
    "ngrok_tunnel = ngrok.connect(8000)\n",
    "print('Public URL:', ngrok_tunnel.public_url)\n",
    "nest_asyncio.apply()\n",
    "uvicorn.run(app, host = '0.0.0.0', port=8000)"
   ]
  }
 ],
 "metadata": {
  "colab": {
   "collapsed_sections": [],
   "name": "fastapi_template.ipynb",
   "provenance": []
  },
  "kernelspec": {
   "display_name": "Python 3 (ipykernel)",
   "language": "python",
   "name": "python3"
  },
  "language_info": {
   "codemirror_mode": {
    "name": "ipython",
    "version": 3
   },
   "file_extension": ".py",
   "mimetype": "text/x-python",
   "name": "python",
   "nbconvert_exporter": "python",
   "pygments_lexer": "ipython3",
   "version": "3.9.7"
  }
 },
 "nbformat": 4,
 "nbformat_minor": 1
}
